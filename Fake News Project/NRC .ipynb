{
 "cells": [
  {
   "cell_type": "code",
   "execution_count": 1,
   "metadata": {},
   "outputs": [],
   "source": [
    "import os\n",
    "import pandas as pd\n",
    "import numpy as np"
   ]
  },
  {
   "cell_type": "code",
   "execution_count": 2,
   "metadata": {},
   "outputs": [],
   "source": [
    "filepath = \"NRC-Emotion-Lexicon-Wordlevel-v0.92.txt\"\n",
    "lexicon = (pd.read_csv(filepath,  names=[\"word\", \"emotion\", \"association\"], sep='\\t'))"
   ]
  },
  {
   "cell_type": "code",
   "execution_count": 3,
   "metadata": {},
   "outputs": [
    {
     "data": {
      "text/html": [
       "<div>\n",
       "<style scoped>\n",
       "    .dataframe tbody tr th:only-of-type {\n",
       "        vertical-align: middle;\n",
       "    }\n",
       "\n",
       "    .dataframe tbody tr th {\n",
       "        vertical-align: top;\n",
       "    }\n",
       "\n",
       "    .dataframe thead th {\n",
       "        text-align: right;\n",
       "    }\n",
       "</style>\n",
       "<table border=\"1\" class=\"dataframe\">\n",
       "  <thead>\n",
       "    <tr style=\"text-align: right;\">\n",
       "      <th></th>\n",
       "      <th>word</th>\n",
       "      <th>emotion</th>\n",
       "      <th>association</th>\n",
       "    </tr>\n",
       "  </thead>\n",
       "  <tbody>\n",
       "    <tr>\n",
       "      <th>0</th>\n",
       "      <td>aback</td>\n",
       "      <td>anger</td>\n",
       "      <td>0</td>\n",
       "    </tr>\n",
       "    <tr>\n",
       "      <th>1</th>\n",
       "      <td>aback</td>\n",
       "      <td>anticipation</td>\n",
       "      <td>0</td>\n",
       "    </tr>\n",
       "    <tr>\n",
       "      <th>2</th>\n",
       "      <td>aback</td>\n",
       "      <td>disgust</td>\n",
       "      <td>0</td>\n",
       "    </tr>\n",
       "    <tr>\n",
       "      <th>3</th>\n",
       "      <td>aback</td>\n",
       "      <td>fear</td>\n",
       "      <td>0</td>\n",
       "    </tr>\n",
       "    <tr>\n",
       "      <th>4</th>\n",
       "      <td>aback</td>\n",
       "      <td>joy</td>\n",
       "      <td>0</td>\n",
       "    </tr>\n",
       "  </tbody>\n",
       "</table>\n",
       "</div>"
      ],
      "text/plain": [
       "    word       emotion  association\n",
       "0  aback         anger            0\n",
       "1  aback  anticipation            0\n",
       "2  aback       disgust            0\n",
       "3  aback          fear            0\n",
       "4  aback           joy            0"
      ]
     },
     "execution_count": 3,
     "metadata": {},
     "output_type": "execute_result"
    }
   ],
   "source": [
    "lexicon.head()"
   ]
  },
  {
   "cell_type": "code",
   "execution_count": 4,
   "metadata": {},
   "outputs": [],
   "source": [
    "words = lexicon.word.unique()"
   ]
  },
  {
   "cell_type": "code",
   "execution_count": 5,
   "metadata": {},
   "outputs": [],
   "source": [
    "lexicon_dict = {}"
   ]
  },
  {
   "cell_type": "code",
   "execution_count": 6,
   "metadata": {},
   "outputs": [],
   "source": [
    "for word in words:\n",
    "    lexicon_dict[word] = [0, 0, 0, 0, 0, 0, 0, 0, 0, 0]\n",
    "    \n",
    "#[anger, anticipation, disgust, fear, joy, sadness, surprise, trust, positive, negative]"
   ]
  },
  {
   "cell_type": "code",
   "execution_count": 7,
   "metadata": {},
   "outputs": [],
   "source": [
    "for index, row in lexicon.iterrows():\n",
    "    if row[2] == 1:\n",
    "        if row[1] == 'anger':\n",
    "            lexicon_dict[row[0]] = [1, 0, 0, 0, 0, 0, 0, 0, 0, 0]\n",
    "        if row[1] == 'anticipation':\n",
    "            lexicon_dict[row[0]] = [0, 1, 0, 0, 0, 0, 0, 0, 0, 0]\n",
    "        if row[1] == 'disgust':\n",
    "            lexicon_dict[row[0]] = [0, 0, 1, 0, 0, 0, 0, 0, 0, 0]\n",
    "        if row[1] == 'fear':\n",
    "            lexicon_dict[row[0]] = [0, 0, 0, 1, 0, 0, 0, 0, 0, 0]\n",
    "        if row[1] == 'joy':\n",
    "            lexicon_dict[row[0]] = [0, 0, 0, 0, 1, 0, 0, 0, 0, 0]\n",
    "        if row[1] == 'sadness':\n",
    "            lexicon_dict[row[0]] = [0, 0, 0, 0, 0, 1, 0, 0, 0, 0]\n",
    "        if row[1] == 'surprise':\n",
    "            lexicon_dict[row[0]] = [0, 0, 0, 0, 0, 0, 1, 0, 0, 0]\n",
    "        if row[1] == 'trust':\n",
    "            lexicon_dict[row[0]] = [0, 0, 0, 0, 0, 0, 0, 1, 0, 0]\n",
    "        if row[1] == 'positive':\n",
    "            lexicon_dict[row[0]] = [0, 0, 0, 0, 0, 0, 0, 0, 1, 0]\n",
    "        if row[1] == 'negative':\n",
    "            lexicon_dict[row[0]] = [0, 0, 0, 0, 0, 0, 0, 0, 0, 1]"
   ]
  },
  {
   "cell_type": "code",
   "execution_count": 8,
   "metadata": {},
   "outputs": [],
   "source": [
    "import pickle\n",
    "f = open(\"nrc.pkl\",\"wb\")\n",
    "pickle.dump(lexicon_dict,f)\n",
    "f.close()"
   ]
  },
  {
   "cell_type": "code",
   "execution_count": null,
   "metadata": {},
   "outputs": [],
   "source": []
  }
 ],
 "metadata": {
  "kernelspec": {
   "display_name": "Python 3",
   "language": "python",
   "name": "python3"
  },
  "language_info": {
   "codemirror_mode": {
    "name": "ipython",
    "version": 3
   },
   "file_extension": ".py",
   "mimetype": "text/x-python",
   "name": "python",
   "nbconvert_exporter": "python",
   "pygments_lexer": "ipython3",
   "version": "3.7.3"
  }
 },
 "nbformat": 4,
 "nbformat_minor": 2
}
